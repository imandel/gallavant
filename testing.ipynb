{
 "cells": [
  {
   "cell_type": "code",
   "execution_count": 1,
   "id": "c73f583e",
   "metadata": {},
   "outputs": [
    {
     "data": {
      "text/html": [
       "<style>.container { width:100% !important; }</style>"
      ],
      "text/plain": [
       "<IPython.core.display.HTML object>"
      ]
     },
     "metadata": {},
     "output_type": "display_data"
    }
   ],
   "source": [
    "from gallavant import MapView\n",
    "from datetime import datetime\n",
    "from pathlib import Path\n",
    "import pandas as pd\n",
    "import numpy as np\n",
    "import json\n",
    "import os\n",
    "import altair as alt\n",
    "\n",
    "from IPython.display import display, HTML\n",
    "display(HTML(\"<style>.container { width:100% !important; }</style>\"))\n",
    "filepath = Path('./examples/updated_data/')"
   ]
  },
  {
   "cell_type": "code",
   "execution_count": 2,
   "id": "5b9dbe60",
   "metadata": {},
   "outputs": [],
   "source": [
    "example_chart = alt.Chart(pd.read_pickle('./examples/updated_data/dataset.pkl')[:1000]).mark_line(point=False).encode(\n",
    "                x='index',\n",
    "                y='Ego_speed')"
   ]
  },
  {
   "cell_type": "code",
   "execution_count": 3,
   "id": "361c0c21",
   "metadata": {},
   "outputs": [
    {
     "name": "stderr",
     "output_type": "stream",
     "text": [
      "iteritems is deprecated and will be removed in a future version. Use .items instead.\n"
     ]
    },
    {
     "data": {
      "application/vnd.jupyter.widget-view+json": {
       "model_id": "bec3db65dd794f64a74a9fbc7353e461",
       "version_major": 2,
       "version_minor": 0
      },
      "text/plain": [
       "MapView(gps='examples/updated_data/route.geojson', peaks='examples/updated_data/test2.peaks.json', plots={'con…"
      ]
     },
     "execution_count": 3,
     "metadata": {},
     "output_type": "execute_result"
    }
   ],
   "source": [
    "g = MapView(\n",
    "    src='./examples/updated_data/test2.mp4',\n",
    "    gps=os.path.join(filepath, 'route.geojson'),\n",
    "    transcript='./examples/updated_data/GMT20201216-141014_Interview-.transcript.vtt',\n",
    "#     peaks='./examples/updated_data/peaks.json',\n",
    "#     peaks='Data example/Study_1/Data/280821_S_HOB804105_SCH994680/RTMaps/20210728_130455_RecFile_1/output.peaks.json',\n",
    "#     views=[str(filepath / 'RecFile_1_20210728_130455_Webcam_output.mp4')], # 'RecFile_1_20210728_130455_Webcam_output.mp4'\n",
    "    peaks='examples/updated_data/test2.peaks.json',\n",
    "    tags=['click', 'cat'],\n",
    "    df=pd.read_pickle('./examples/updated_data/clicks.pkl'),\n",
    "    dataset=pd.read_pickle('./examples/updated_data/dataset.pkl'),\n",
    "    plots=example_chart,\n",
    "#    plots=click_seq_chart_spec_array # pass the altair specs here\n",
    "#     dataset=dataset_df,\n",
    ")\n",
    "g"
   ]
  },
  {
   "cell_type": "code",
   "execution_count": 8,
   "id": "40c1aa14",
   "metadata": {},
   "outputs": [],
   "source": [
    "g.tags = ['test']"
   ]
  },
  {
   "cell_type": "code",
   "execution_count": null,
   "id": "2f00fe09",
   "metadata": {},
   "outputs": [],
   "source": []
  }
 ],
 "metadata": {
  "kernelspec": {
   "display_name": "Python 3 (ipykernel)",
   "language": "python",
   "name": "python3"
  },
  "language_info": {
   "codemirror_mode": {
    "name": "ipython",
    "version": 3
   },
   "file_extension": ".py",
   "mimetype": "text/x-python",
   "name": "python",
   "nbconvert_exporter": "python",
   "pygments_lexer": "ipython3",
   "version": "3.8.6"
  }
 },
 "nbformat": 4,
 "nbformat_minor": 5
}
