{
 "cells": [
  {
   "cell_type": "code",
   "execution_count": 2,
   "metadata": {},
   "outputs": [
    {
     "data": {
      "text/html": [
       "<style>.container { width:100% !important; }</style>"
      ],
      "text/plain": [
       "<IPython.core.display.HTML object>"
      ]
     },
     "metadata": {},
     "output_type": "display_data"
    }
   ],
   "source": [
    "import gallavant\n",
    "from IPython.core.display import display, HTML\n",
    "display(HTML(\"<style>.container { width:100% !important; }</style>\"))\n",
    "# import pandas as pd\n",
    "# import moviepy.editor as mpy \n",
    "from pathlib import Path"
   ]
  },
  {
   "cell_type": "code",
   "execution_count": 3,
   "metadata": {},
   "outputs": [
    {
     "name": "stdout",
     "output_type": "stream",
     "text": [
      "File ‘data.zip’ already there; not retrieving.\n",
      "\n",
      "Archive:  data.zip\n"
     ]
    }
   ],
   "source": [
    "!wget -nc https://gallavant-sample.s3.amazonaws.com/data.zip\n",
    "!unzip -n data.zip"
   ]
  },
  {
   "cell_type": "code",
   "execution_count": 6,
   "metadata": {
    "scrolled": false
   },
   "outputs": [
    {
     "name": "stderr",
     "output_type": "stream",
     "text": [
      "found matching peaks file 'data/GMT20201216-141014_Interview-_640x360.peaks.json' supress by setting peaks='data/GMT20201216-141014_Interview-_640x360.peaks.json'\n"
     ]
    },
    {
     "data": {
      "application/vnd.jupyter.widget-view+json": {
       "model_id": "46c234a4aead454fa5e3a8ab970ef0ad",
       "version_major": 2,
       "version_minor": 0
      },
      "text/plain": [
       "MapView(author='testuser2', gps='./data/16-Dec-2020-0945.gpx', peaks='data/GMT20201216-141014_Interview-_640x3…"
      ]
     },
     "metadata": {},
     "output_type": "display_data"
    }
   ],
   "source": [
    "w = gallavant.MapView(src='./data/GMT20201216-141014_Interview-_640x360.mp4',\n",
    "#                           views=['./data/GMT20201216-141014_Interview-_640x360.mp4', './data/GMT20201216-141014_Interview-_640x360.mp4'],\n",
    "#                           tags = ['test', 'garbage', 'person', 'dog'],\n",
    "                          gps='./data/16-Dec-2020-0945.gpx',\n",
    "                          transcript='./data/GMT20201216-141014_Interview-.transcript.vtt',\n",
    "                          author='testuser2',\n",
    "#                           df='./elderly.json'\n",
    "#                           peaks='./data/GMT20201216-141014_Interview-_640x360.peaks.json',\n",
    "                         )\n",
    "w"
   ]
  },
  {
   "cell_type": "code",
   "execution_count": null,
   "metadata": {},
   "outputs": [],
   "source": [
    "w.df.to_json('./elderly.json')"
   ]
  },
  {
   "cell_type": "code",
   "execution_count": null,
   "metadata": {},
   "outputs": [],
   "source": [
    "clip = mpy.VideoFileClip(w.src)\n",
    "for idx, keypoint in w.df.iterrows():\n",
    "    print(int(keypoint.start),int(keypoint.end))\n",
    "    subclip = clip.subclip(int(keypoint.start),int(keypoint.end))\n",
    "    subclip.write_videofile(f\"./data/clips/clip_{idx}.mp4\")"
   ]
  },
  {
   "cell_type": "code",
   "execution_count": null,
   "metadata": {},
   "outputs": [],
   "source": []
  }
 ],
 "metadata": {
  "kernelspec": {
   "display_name": "Python 3 (ipykernel)",
   "language": "python",
   "name": "python3"
  },
  "language_info": {
   "codemirror_mode": {
    "name": "ipython",
    "version": 3
   },
   "file_extension": ".py",
   "mimetype": "text/x-python",
   "name": "python",
   "nbconvert_exporter": "python",
   "pygments_lexer": "ipython3",
   "version": "3.9.7"
  }
 },
 "nbformat": 4,
 "nbformat_minor": 2
}
