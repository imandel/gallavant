{
 "cells": [
  {
   "cell_type": "code",
   "execution_count": null,
   "metadata": {},
   "outputs": [],
   "source": [
    "import gallavant\n",
    "from IPython.core.display import display, HTML\n",
    "display(HTML(\"<style>.container { width:100% !important; }</style>\"))\n",
    "# import pandas as pd\n",
    "# import moviepy.editor as mpy \n",
    "from pathlib import Path"
   ]
  },
  {
   "cell_type": "code",
   "execution_count": null,
   "metadata": {},
   "outputs": [],
   "source": [
    "!wget -nc https://gallavant-sample.s3.amazonaws.com/data.zip\n",
    "!unzip -n data.zip"
   ]
  },
  {
   "cell_type": "code",
   "execution_count": null,
   "metadata": {
    "scrolled": false
   },
   "outputs": [],
   "source": [
    "w = gallavant.MapView(src='./data/GMT20201216-141014_Interview-_640x360.mp4',\n",
    "#                           views=['./data/GMT20201216-141014_Interview-_640x360.mp4', './data/GMT20201216-141014_Interview-_640x360.mp4'],\n",
    "                          tags = ['test', 'garbage', 'person', 'dog'],\n",
    "                          gps='./data/16-Dec-2020-0945.gpx',\n",
    "                          transcript='./data/GMT20201216-141014_Interview-.transcript.vtt',\n",
    "                          author='testuser2',\n",
    "#                           df='./elderly.json'\n",
    "#                           peaks='./data/GMT20201216-141014_Interview-_640x360.peaks.json',\n",
    "                         )\n",
    "w"
   ]
  }
 ],
 "metadata": {
  "kernelspec": {
   "display_name": "Python 3 (ipykernel)",
   "language": "python",
   "name": "python3"
  },
  "language_info": {
   "codemirror_mode": {
    "name": "ipython",
    "version": 3
   },
   "file_extension": ".py",
   "mimetype": "text/x-python",
   "name": "python",
   "nbconvert_exporter": "python",
   "pygments_lexer": "ipython3",
   "version": "3.9.7"
  }
 },
 "nbformat": 4,
 "nbformat_minor": 2
}
